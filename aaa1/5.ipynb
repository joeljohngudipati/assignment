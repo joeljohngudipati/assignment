{
 "cells": [
  {
   "cell_type": "code",
   "execution_count": 2,
   "metadata": {},
   "outputs": [
    {
     "name": "stdout",
     "output_type": "stream",
     "text": [
      "age3 is elder\n"
     ]
    }
   ],
   "source": [
    "#write a program to find the eldest among tyhe three persons age received from the user\n",
    "\n",
    "age1=int(input('enter age1: '))\n",
    "age2=int(input('enter age2: '))\n",
    "age3=int(input('enter age3: '))\n",
    "if  age1>age2 and age1>age3:\n",
    "    print('age1 is elder')\n",
    "elif age2>age1 and age2>age3:\n",
    "    print('age2 is elder')\n",
    "else:\n",
    "    print('age3 is elder')\n"
   ]
  },
  {
   "cell_type": "code",
   "execution_count": 9,
   "metadata": {},
   "outputs": [
    {
     "name": "stdout",
     "output_type": "stream",
     "text": [
      "entered number is negative\n"
     ]
    }
   ],
   "source": [
    "num=int(input(\"enter any number\"))\n",
    "if num>0:\n",
    "    print(\"entered number is positive\")\n",
    "elif num<0:\n",
    "    print(\"entered number is negative\")\n",
    "else:\n",
    "    print(\"entered number is Zero\")\n"
   ]
  },
  {
   "cell_type": "code",
   "execution_count": 10,
   "metadata": {},
   "outputs": [
    {
     "name": "stdout",
     "output_type": "stream",
     "text": [
      "Addition of two number's is: 30\n",
      "substraction of two number's is: -10\n",
      "multiplication of two number's is: 30\n",
      "division of two number's is: 0.5\n",
      "Modulue of two number's is: 10\n"
     ]
    }
   ],
   "source": [
    "a=int(input(\"enter 1st number\"))\n",
    "b=int(input(\"enter second number\"))\n",
    "print(\"Addition of two number's is:\",a+b)\n",
    "print(\"substraction of two number's is:\",a-b)\n",
    "print(\"multiplication of two number's is:\",a+b)\n",
    "print(\"division of two number's is:\",a/b)\n",
    "print(\"Modulue of two number's is:\",a%b)"
   ]
  }
 ],
 "metadata": {
  "kernelspec": {
   "display_name": "Python 3",
   "language": "python",
   "name": "python3"
  },
  "language_info": {
   "codemirror_mode": {
    "name": "ipython",
    "version": 3
   },
   "file_extension": ".py",
   "mimetype": "text/x-python",
   "name": "python",
   "nbconvert_exporter": "python",
   "pygments_lexer": "ipython3",
   "version": "3.11.2"
  },
  "orig_nbformat": 4
 },
 "nbformat": 4,
 "nbformat_minor": 2
}
