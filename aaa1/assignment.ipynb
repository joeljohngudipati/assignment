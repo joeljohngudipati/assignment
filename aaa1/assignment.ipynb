{
 "cells": [
  {
   "cell_type": "code",
   "execution_count": 1,
   "metadata": {},
   "outputs": [
    {
     "name": "stdout",
     "output_type": "stream",
     "text": [
      "86.25\n"
     ]
    }
   ],
   "source": [
    "#Simple Interest\n",
    "def simple_interest():\n",
    "    p=float(input(\"enter principal amount\"))\n",
    "    t=float(input(\"enter time\"))\n",
    "    r=float(input(\"enter rate of interest\"))\n",
    "    SI=(p*t*r)/100\n",
    "    return SI\n",
    "\n",
    "result=simple_interest()\n",
    "print(result)\n"
   ]
  },
  {
   "cell_type": "code",
   "execution_count": 3,
   "metadata": {},
   "outputs": [
    {
     "name": "stdout",
     "output_type": "stream",
     "text": [
      "849.2928000000011\n"
     ]
    }
   ],
   "source": [
    "def compound_interest():\n",
    "    p=float(input(\"enter principal amount\"))\n",
    "    t=float(input(\"enter time\"))\n",
    "    r=float(input(\"enter rate of interest\"))\n",
    "    a=p*(1+(r/100))**t\n",
    "    CI=a-p\n",
    "    return CI\n",
    "\n",
    "result=compound_interest()\n",
    "print(result)"
   ]
  }
 ],
 "metadata": {
  "kernelspec": {
   "display_name": "Python 3",
   "language": "python",
   "name": "python3"
  },
  "language_info": {
   "codemirror_mode": {
    "name": "ipython",
    "version": 3
   },
   "file_extension": ".py",
   "mimetype": "text/x-python",
   "name": "python",
   "nbconvert_exporter": "python",
   "pygments_lexer": "ipython3",
   "version": "3.11.1"
  },
  "orig_nbformat": 4
 },
 "nbformat": 4,
 "nbformat_minor": 2
}
